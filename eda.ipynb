{
 "cells": [
  {
   "cell_type": "code",
   "execution_count": 2,
   "id": "0e1be763",
   "metadata": {},
   "outputs": [],
   "source": [
    "# pip install pandas\n",
    "# pip install scikit-learn\n",
    "# pip install xgboost"
   ]
  },
  {
   "cell_type": "code",
   "execution_count": 3,
   "id": "7db1f48c",
   "metadata": {},
   "outputs": [
    {
     "data": {
      "text/html": [
       "<div>\n",
       "<style scoped>\n",
       "    .dataframe tbody tr th:only-of-type {\n",
       "        vertical-align: middle;\n",
       "    }\n",
       "\n",
       "    .dataframe tbody tr th {\n",
       "        vertical-align: top;\n",
       "    }\n",
       "\n",
       "    .dataframe thead th {\n",
       "        text-align: right;\n",
       "    }\n",
       "</style>\n",
       "<table border=\"1\" class=\"dataframe\">\n",
       "  <thead>\n",
       "    <tr style=\"text-align: right;\">\n",
       "      <th></th>\n",
       "      <th>Student_ID</th>\n",
       "      <th>Age</th>\n",
       "      <th>Gender</th>\n",
       "      <th>Study_Hours_per_Week</th>\n",
       "      <th>Preferred_Learning_Style</th>\n",
       "      <th>Online_Courses_Completed</th>\n",
       "      <th>Participation_in_Discussions</th>\n",
       "      <th>Assignment_Completion_Rate (%)</th>\n",
       "      <th>Exam_Score (%)</th>\n",
       "      <th>Attendance_Rate (%)</th>\n",
       "      <th>Use_of_Educational_Tech</th>\n",
       "      <th>Self_Reported_Stress_Level</th>\n",
       "      <th>Time_Spent_on_Social_Media (hours/week)</th>\n",
       "      <th>Sleep_Hours_per_Night</th>\n",
       "      <th>Final_Grade</th>\n",
       "    </tr>\n",
       "  </thead>\n",
       "  <tbody>\n",
       "    <tr>\n",
       "      <th>0</th>\n",
       "      <td>S00001</td>\n",
       "      <td>18</td>\n",
       "      <td>Female</td>\n",
       "      <td>48</td>\n",
       "      <td>Kinesthetic</td>\n",
       "      <td>14</td>\n",
       "      <td>Yes</td>\n",
       "      <td>100</td>\n",
       "      <td>69</td>\n",
       "      <td>66</td>\n",
       "      <td>Yes</td>\n",
       "      <td>High</td>\n",
       "      <td>9</td>\n",
       "      <td>8</td>\n",
       "      <td>C</td>\n",
       "    </tr>\n",
       "    <tr>\n",
       "      <th>1</th>\n",
       "      <td>S00002</td>\n",
       "      <td>29</td>\n",
       "      <td>Female</td>\n",
       "      <td>30</td>\n",
       "      <td>Reading/Writing</td>\n",
       "      <td>20</td>\n",
       "      <td>No</td>\n",
       "      <td>71</td>\n",
       "      <td>40</td>\n",
       "      <td>57</td>\n",
       "      <td>Yes</td>\n",
       "      <td>Medium</td>\n",
       "      <td>28</td>\n",
       "      <td>8</td>\n",
       "      <td>D</td>\n",
       "    </tr>\n",
       "    <tr>\n",
       "      <th>2</th>\n",
       "      <td>S00003</td>\n",
       "      <td>20</td>\n",
       "      <td>Female</td>\n",
       "      <td>47</td>\n",
       "      <td>Kinesthetic</td>\n",
       "      <td>11</td>\n",
       "      <td>No</td>\n",
       "      <td>60</td>\n",
       "      <td>43</td>\n",
       "      <td>79</td>\n",
       "      <td>Yes</td>\n",
       "      <td>Low</td>\n",
       "      <td>13</td>\n",
       "      <td>7</td>\n",
       "      <td>D</td>\n",
       "    </tr>\n",
       "    <tr>\n",
       "      <th>3</th>\n",
       "      <td>S00004</td>\n",
       "      <td>23</td>\n",
       "      <td>Female</td>\n",
       "      <td>13</td>\n",
       "      <td>Auditory</td>\n",
       "      <td>0</td>\n",
       "      <td>Yes</td>\n",
       "      <td>63</td>\n",
       "      <td>70</td>\n",
       "      <td>60</td>\n",
       "      <td>Yes</td>\n",
       "      <td>Low</td>\n",
       "      <td>24</td>\n",
       "      <td>10</td>\n",
       "      <td>B</td>\n",
       "    </tr>\n",
       "    <tr>\n",
       "      <th>4</th>\n",
       "      <td>S00005</td>\n",
       "      <td>19</td>\n",
       "      <td>Female</td>\n",
       "      <td>24</td>\n",
       "      <td>Auditory</td>\n",
       "      <td>19</td>\n",
       "      <td>Yes</td>\n",
       "      <td>59</td>\n",
       "      <td>63</td>\n",
       "      <td>93</td>\n",
       "      <td>Yes</td>\n",
       "      <td>Medium</td>\n",
       "      <td>26</td>\n",
       "      <td>8</td>\n",
       "      <td>C</td>\n",
       "    </tr>\n",
       "  </tbody>\n",
       "</table>\n",
       "</div>"
      ],
      "text/plain": [
       "  Student_ID  Age  Gender  Study_Hours_per_Week Preferred_Learning_Style  \\\n",
       "0     S00001   18  Female                    48              Kinesthetic   \n",
       "1     S00002   29  Female                    30          Reading/Writing   \n",
       "2     S00003   20  Female                    47              Kinesthetic   \n",
       "3     S00004   23  Female                    13                 Auditory   \n",
       "4     S00005   19  Female                    24                 Auditory   \n",
       "\n",
       "   Online_Courses_Completed Participation_in_Discussions  \\\n",
       "0                        14                          Yes   \n",
       "1                        20                           No   \n",
       "2                        11                           No   \n",
       "3                         0                          Yes   \n",
       "4                        19                          Yes   \n",
       "\n",
       "   Assignment_Completion_Rate (%)  Exam_Score (%)  Attendance_Rate (%)  \\\n",
       "0                             100              69                   66   \n",
       "1                              71              40                   57   \n",
       "2                              60              43                   79   \n",
       "3                              63              70                   60   \n",
       "4                              59              63                   93   \n",
       "\n",
       "  Use_of_Educational_Tech Self_Reported_Stress_Level  \\\n",
       "0                     Yes                       High   \n",
       "1                     Yes                     Medium   \n",
       "2                     Yes                        Low   \n",
       "3                     Yes                        Low   \n",
       "4                     Yes                     Medium   \n",
       "\n",
       "   Time_Spent_on_Social_Media (hours/week)  Sleep_Hours_per_Night Final_Grade  \n",
       "0                                        9                      8           C  \n",
       "1                                       28                      8           D  \n",
       "2                                       13                      7           D  \n",
       "3                                       24                     10           B  \n",
       "4                                       26                      8           C  "
      ]
     },
     "execution_count": 3,
     "metadata": {},
     "output_type": "execute_result"
    }
   ],
   "source": [
    "import pandas as pd \n",
    "\n",
    "df = pd.read_csv(\"./data/dataset.csv\")\n",
    "\n",
    "df.head()\n"
   ]
  },
  {
   "cell_type": "code",
   "execution_count": 4,
   "id": "b463c19d",
   "metadata": {},
   "outputs": [
    {
     "data": {
      "text/plain": [
       "(10000, 15)"
      ]
     },
     "execution_count": 4,
     "metadata": {},
     "output_type": "execute_result"
    }
   ],
   "source": [
    "df.shape"
   ]
  },
  {
   "cell_type": "code",
   "execution_count": 5,
   "id": "42ea8d71",
   "metadata": {},
   "outputs": [
    {
     "data": {
      "text/plain": [
       "Index(['Student_ID', 'Age', 'Gender', 'Study_Hours_per_Week',\n",
       "       'Preferred_Learning_Style', 'Online_Courses_Completed',\n",
       "       'Participation_in_Discussions', 'Assignment_Completion_Rate (%)',\n",
       "       'Exam_Score (%)', 'Attendance_Rate (%)', 'Use_of_Educational_Tech',\n",
       "       'Self_Reported_Stress_Level', 'Time_Spent_on_Social_Media (hours/week)',\n",
       "       'Sleep_Hours_per_Night', 'Final_Grade'],\n",
       "      dtype='object')"
      ]
     },
     "execution_count": 5,
     "metadata": {},
     "output_type": "execute_result"
    }
   ],
   "source": [
    "df.columns"
   ]
  },
  {
   "cell_type": "code",
   "execution_count": 6,
   "id": "41fa83e3",
   "metadata": {},
   "outputs": [
    {
     "data": {
      "text/plain": [
       "Index(['Age', 'Study_Hours_per_Week', 'Online_Courses_Completed',\n",
       "       'Assignment_Completion_Rate (%)', 'Exam_Score (%)',\n",
       "       'Attendance_Rate (%)', 'Time_Spent_on_Social_Media (hours/week)',\n",
       "       'Sleep_Hours_per_Night'],\n",
       "      dtype='object')"
      ]
     },
     "execution_count": 6,
     "metadata": {},
     "output_type": "execute_result"
    }
   ],
   "source": [
    "df.describe().columns"
   ]
  },
  {
   "cell_type": "code",
   "execution_count": 7,
   "id": "a1d9e848",
   "metadata": {},
   "outputs": [],
   "source": [
    "\n",
    "X = df[['Age', 'Study_Hours_per_Week', 'Online_Courses_Completed',\n",
    "       'Assignment_Completion_Rate (%)', \n",
    "       'Attendance_Rate (%)', 'Time_Spent_on_Social_Media (hours/week)',\n",
    "       'Sleep_Hours_per_Night']]\n",
    "\n",
    "y = df[\"Final_Grade\"]"
   ]
  },
  {
   "cell_type": "code",
   "execution_count": null,
   "id": "04ed9730",
   "metadata": {},
   "outputs": [
    {
     "name": "stderr",
     "output_type": "stream",
     "text": [
      "c:\\Projetos\\ciencia_de_dados-projeto_final\\.venv\\lib\\site-packages\\sklearn\\linear_model\\_logistic.py:1247: FutureWarning: 'multi_class' was deprecated in version 1.5 and will be removed in 1.7. From then on, it will always use 'multinomial'. Leave it to its default value to avoid this warning.\n",
      "  warnings.warn(\n",
      "c:\\Projetos\\ciencia_de_dados-projeto_final\\.venv\\lib\\site-packages\\sklearn\\linear_model\\_logistic.py:465: ConvergenceWarning: lbfgs failed to converge (status=1):\n",
      "STOP: TOTAL NO. OF ITERATIONS REACHED LIMIT.\n",
      "\n",
      "Increase the number of iterations (max_iter) or scale the data as shown in:\n",
      "    https://scikit-learn.org/stable/modules/preprocessing.html\n",
      "Please also refer to the documentation for alternative solver options:\n",
      "    https://scikit-learn.org/stable/modules/linear_model.html#logistic-regression\n",
      "  n_iter_i = _check_optimize_result(\n",
      "c:\\Projetos\\ciencia_de_dados-projeto_final\\.venv\\lib\\site-packages\\sklearn\\linear_model\\_logistic.py:1247: FutureWarning: 'multi_class' was deprecated in version 1.5 and will be removed in 1.7. From then on, it will always use 'multinomial'. Leave it to its default value to avoid this warning.\n",
      "  warnings.warn(\n",
      "c:\\Projetos\\ciencia_de_dados-projeto_final\\.venv\\lib\\site-packages\\sklearn\\linear_model\\_logistic.py:465: ConvergenceWarning: lbfgs failed to converge (status=1):\n",
      "STOP: TOTAL NO. OF ITERATIONS REACHED LIMIT.\n",
      "\n",
      "Increase the number of iterations (max_iter) or scale the data as shown in:\n",
      "    https://scikit-learn.org/stable/modules/preprocessing.html\n",
      "Please also refer to the documentation for alternative solver options:\n",
      "    https://scikit-learn.org/stable/modules/linear_model.html#logistic-regression\n",
      "  n_iter_i = _check_optimize_result(\n",
      "c:\\Projetos\\ciencia_de_dados-projeto_final\\.venv\\lib\\site-packages\\sklearn\\linear_model\\_logistic.py:1247: FutureWarning: 'multi_class' was deprecated in version 1.5 and will be removed in 1.7. From then on, it will always use 'multinomial'. Leave it to its default value to avoid this warning.\n",
      "  warnings.warn(\n",
      "c:\\Projetos\\ciencia_de_dados-projeto_final\\.venv\\lib\\site-packages\\sklearn\\linear_model\\_logistic.py:465: ConvergenceWarning: lbfgs failed to converge (status=1):\n",
      "STOP: TOTAL NO. OF ITERATIONS REACHED LIMIT.\n",
      "\n",
      "Increase the number of iterations (max_iter) or scale the data as shown in:\n",
      "    https://scikit-learn.org/stable/modules/preprocessing.html\n",
      "Please also refer to the documentation for alternative solver options:\n",
      "    https://scikit-learn.org/stable/modules/linear_model.html#logistic-regression\n",
      "  n_iter_i = _check_optimize_result(\n",
      "c:\\Projetos\\ciencia_de_dados-projeto_final\\.venv\\lib\\site-packages\\sklearn\\linear_model\\_logistic.py:1247: FutureWarning: 'multi_class' was deprecated in version 1.5 and will be removed in 1.7. From then on, it will always use 'multinomial'. Leave it to its default value to avoid this warning.\n",
      "  warnings.warn(\n",
      "c:\\Projetos\\ciencia_de_dados-projeto_final\\.venv\\lib\\site-packages\\sklearn\\linear_model\\_logistic.py:465: ConvergenceWarning: lbfgs failed to converge (status=1):\n",
      "STOP: TOTAL NO. OF ITERATIONS REACHED LIMIT.\n",
      "\n",
      "Increase the number of iterations (max_iter) or scale the data as shown in:\n",
      "    https://scikit-learn.org/stable/modules/preprocessing.html\n",
      "Please also refer to the documentation for alternative solver options:\n",
      "    https://scikit-learn.org/stable/modules/linear_model.html#logistic-regression\n",
      "  n_iter_i = _check_optimize_result(\n",
      "c:\\Projetos\\ciencia_de_dados-projeto_final\\.venv\\lib\\site-packages\\sklearn\\linear_model\\_logistic.py:1247: FutureWarning: 'multi_class' was deprecated in version 1.5 and will be removed in 1.7. From then on, it will always use 'multinomial'. Leave it to its default value to avoid this warning.\n",
      "  warnings.warn(\n",
      "c:\\Projetos\\ciencia_de_dados-projeto_final\\.venv\\lib\\site-packages\\sklearn\\linear_model\\_logistic.py:465: ConvergenceWarning: lbfgs failed to converge (status=1):\n",
      "STOP: TOTAL NO. OF ITERATIONS REACHED LIMIT.\n",
      "\n",
      "Increase the number of iterations (max_iter) or scale the data as shown in:\n",
      "    https://scikit-learn.org/stable/modules/preprocessing.html\n",
      "Please also refer to the documentation for alternative solver options:\n",
      "    https://scikit-learn.org/stable/modules/linear_model.html#logistic-regression\n",
      "  n_iter_i = _check_optimize_result(\n",
      "c:\\Projetos\\ciencia_de_dados-projeto_final\\.venv\\lib\\site-packages\\sklearn\\metrics\\_classification.py:1565: UndefinedMetricWarning: Precision is ill-defined and being set to 0.0 in labels with no predicted samples. Use `zero_division` parameter to control this behavior.\n",
      "  _warn_prf(average, modifier, f\"{metric.capitalize()} is\", len(result))\n"
     ]
    },
    {
     "name": "stdout",
     "output_type": "stream",
     "text": [
      "Resultados para o modelo Regressao Logistica Multinomial:\n",
      "Acurácia média: 0.26539999999999997\n",
      "Precisão macro média: 0.2773721011611523\n",
      "Recall macro médio: 0.2525150698813454\n",
      "F1 macro médio: 0.1739144627992926\n",
      "--------------------------------------------------\n",
      "Resultados para o modelo Random Forest:\n",
      "Acurácia média: 0.2476\n",
      "Precisão macro média: 0.2450019699892708\n",
      "Recall macro médio: 0.24549642894767917\n",
      "F1 macro médio: 0.24395870562416885\n",
      "--------------------------------------------------\n"
     ]
    },
    {
     "name": "stderr",
     "output_type": "stream",
     "text": [
      "c:\\Projetos\\ciencia_de_dados-projeto_final\\.venv\\lib\\site-packages\\sklearn\\metrics\\_classification.py:1565: UndefinedMetricWarning: Precision is ill-defined and being set to 0.0 in labels with no predicted samples. Use `zero_division` parameter to control this behavior.\n",
      "  _warn_prf(average, modifier, f\"{metric.capitalize()} is\", len(result))\n",
      "c:\\Projetos\\ciencia_de_dados-projeto_final\\.venv\\lib\\site-packages\\sklearn\\metrics\\_classification.py:1565: UndefinedMetricWarning: Precision is ill-defined and being set to 0.0 in labels with no predicted samples. Use `zero_division` parameter to control this behavior.\n",
      "  _warn_prf(average, modifier, f\"{metric.capitalize()} is\", len(result))\n"
     ]
    }
   ],
   "source": [
    "from sklearn.ensemble import RandomForestClassifier\n",
    "from sklearn.linear_model import LogisticRegression\n",
    "from sklearn.model_selection import cross_validate\n",
    "from sklearn.svm import SVC\n",
    "from xgboost import XGBClassifier\n",
    "\n",
    "scoring = {\n",
    "    'accuracy': 'accuracy',\n",
    "    'precision_macro': 'precision_macro',\n",
    "    'recall_macro': 'recall_macro',\n",
    "    'f1_macro': 'f1_macro'\n",
    "}\n",
    "\n",
    "modelos = {\n",
    "        'Regressao Logistica Multinomial': LogisticRegression(multi_class='multinomial', solver='lbfgs'),\n",
    "        'Random Forest': RandomForestClassifier(),\n",
    "        'SVC': SVC(kernel=\"linear\")\n",
    "}\n",
    "    \n",
    "# Avaliando cada modelo com cross-validation\n",
    "for nome, modelo in modelos.items():\n",
    "    resultados = cross_validate(modelo, X, y, cv=5, scoring=scoring)\n",
    "    \n",
    "    print(f\"Resultados para o modelo {nome}:\")\n",
    "    print(\"Acurácia média:\", resultados['test_accuracy'].mean())\n",
    "    print(\"Precisão macro média:\", resultados['test_precision_macro'].mean())\n",
    "    print(\"Recall macro médio:\", resultados['test_recall_macro'].mean())\n",
    "    print(\"F1 macro médio:\", resultados['test_f1_macro'].mean())\n",
    "    print(\"-\" * 50)"
   ]
  },
  {
   "cell_type": "code",
   "execution_count": null,
   "id": "09ba019b",
   "metadata": {},
   "outputs": [],
   "source": []
  },
  {
   "cell_type": "code",
   "execution_count": null,
   "id": "cc67782a",
   "metadata": {},
   "outputs": [],
   "source": []
  },
  {
   "cell_type": "code",
   "execution_count": null,
   "id": "e5407027",
   "metadata": {},
   "outputs": [],
   "source": []
  },
  {
   "cell_type": "code",
   "execution_count": null,
   "id": "31fb5646",
   "metadata": {},
   "outputs": [],
   "source": [
    "\n",
    "\n",
    "\n",
    "X_train, X_test, y_train, y_test = train_test_split(X, y, test_size=0.2, stratify=y, random_state=42)\n",
    "    \n",
    "modelos = {\n",
    "    'Random Forest': RandomForestClassifier(random_state=42),\n",
    "    'XGBoost': XGBClassifier(random_state=42, eval_metric='mlogloss', num_class=len(unique_classes)),\n",
    "    'SVM': SVC(probability=True, random_state=42)\n",
    "}"
   ]
  }
 ],
 "metadata": {
  "kernelspec": {
   "display_name": ".venv",
   "language": "python",
   "name": "python3"
  },
  "language_info": {
   "codemirror_mode": {
    "name": "ipython",
    "version": 3
   },
   "file_extension": ".py",
   "mimetype": "text/x-python",
   "name": "python",
   "nbconvert_exporter": "python",
   "pygments_lexer": "ipython3",
   "version": "3.10.11"
  }
 },
 "nbformat": 4,
 "nbformat_minor": 5
}
